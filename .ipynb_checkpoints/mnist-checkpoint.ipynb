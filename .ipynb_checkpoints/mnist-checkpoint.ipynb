{
 "cells": [
  {
   "cell_type": "code",
   "execution_count": 22,
   "metadata": {
    "collapsed": false
   },
   "outputs": [],
   "source": [
    "%matplotlib inline\n",
    "import numpy as np\n",
    "import matplotlib.pyplot as plt\n",
    "import matplotlib.cm as cm\n",
    "import pandas as pd\n",
    "import keras\n",
    "import scipy.misc\n",
    "import utils"
   ]
  },
  {
   "cell_type": "code",
   "execution_count": 2,
   "metadata": {
    "collapsed": false
   },
   "outputs": [],
   "source": [
    "cols=[\"pixel\"+str(i) for i in range(784)]\n",
    "Xr = pd.read_csv('train.csv')\n",
    "Yr = Xr[\"label\"]\n",
    "Xr = Xr.as_matrix(cols)\n",
    "\n",
    "Xe = pd.read_csv('test.csv')\n",
    "Xe = Xe.as_matrix(cols)\n",
    "\n",
    "\n",
    "\n"
   ]
  },
  {
   "cell_type": "code",
   "execution_count": 13,
   "metadata": {
    "collapsed": true
   },
   "outputs": [],
   "source": [
    "Xr=Xr/255\n",
    "Xe=Xe/255"
   ]
  },
  {
   "cell_type": "code",
   "execution_count": 3,
   "metadata": {
    "collapsed": false
   },
   "outputs": [],
   "source": [
    "def display_digit(Xs,title=None):\n",
    "    fig = plt.figure(figsize=(3,3))\n",
    "    sq=Xs.reshape(28,28)\n",
    "    plt.imshow(sq,cmap = cm.Greys_r)\n",
    "    if title!=None:\n",
    "        fig.suptitle(str(title))\n",
    "        \n",
    "def binary_labels(Y,n):\n",
    "    result = []\n",
    "    for i in Y:\n",
    "        temp_zeros=[0 for i in range(n)]\n",
    "        temp_zeros[i]=1\n",
    "        result.append(np.array(temp_zeros))\n",
    "    return np.array(result)\n",
    "\n"
   ]
  },
  {
   "cell_type": "code",
   "execution_count": 27,
   "metadata": {
    "collapsed": false
   },
   "outputs": [
    {
     "name": "stdout",
     "output_type": "stream",
     "text": [
      "____________________________________________________________________________________________________\n",
      "Layer (type)                     Output Shape          Param #     Connected to                     \n",
      "====================================================================================================\n",
      "dense_15 (Dense)                 (None, 25)            19625       dense_input_6[0][0]              \n",
      "____________________________________________________________________________________________________\n",
      "activation_15 (Activation)       (None, 25)            0           dense_15[0][0]                   \n",
      "____________________________________________________________________________________________________\n",
      "dense_16 (Dense)                 (None, 20)            520         activation_15[0][0]              \n",
      "____________________________________________________________________________________________________\n",
      "activation_16 (Activation)       (None, 20)            0           dense_16[0][0]                   \n",
      "____________________________________________________________________________________________________\n",
      "dense_17 (Dense)                 (None, 10)            210         activation_16[0][0]              \n",
      "____________________________________________________________________________________________________\n",
      "activation_17 (Activation)       (None, 10)            0           dense_17[0][0]                   \n",
      "====================================================================================================\n",
      "Total params: 20355\n",
      "____________________________________________________________________________________________________\n"
     ]
    }
   ],
   "source": [
    "from keras.models import Sequential\n",
    "from keras.layers import Dense, Activation\n",
    "model = Sequential()\n",
    "model.add(Dense(output_dim=25, input_dim=784))\n",
    "model.add(Activation(\"sigmoid\"))\n",
    "model.add(Dense(output_dim=20))\n",
    "model.add(Activation(\"sigmoid\"))\n",
    "model.add(Dense(output_dim=10))\n",
    "model.add(Activation(\"softmax\"))\n",
    "model.compile(loss='categorical_crossentropy', optimizer='sgd', metrics=['accuracy'])\n",
    "model.summary()"
   ]
  },
  {
   "cell_type": "code",
   "execution_count": 28,
   "metadata": {
    "collapsed": false
   },
   "outputs": [
    {
     "name": "stdout",
     "output_type": "stream",
     "text": [
      "Epoch 1/15\n",
      "42000/42000 [==============================] - 5s - loss: 2.0148 - acc: 0.4275     \n",
      "Epoch 2/15\n",
      "42000/42000 [==============================] - 5s - loss: 1.1772 - acc: 0.6867     \n",
      "Epoch 3/15\n",
      "42000/42000 [==============================] - 5s - loss: 0.7098 - acc: 0.8183     \n",
      "Epoch 4/15\n",
      "42000/42000 [==============================] - 4s - loss: 0.5083 - acc: 0.8674     \n",
      "Epoch 5/15\n",
      "42000/42000 [==============================] - 3s - loss: 0.4147 - acc: 0.8882     \n",
      "Epoch 6/15\n",
      "42000/42000 [==============================] - 3s - loss: 0.3626 - acc: 0.9000     \n",
      "Epoch 7/15\n",
      "42000/42000 [==============================] - 5s - loss: 0.3280 - acc: 0.9085     \n",
      "Epoch 8/15\n",
      "42000/42000 [==============================] - 7s - loss: 0.3031 - acc: 0.9148     \n",
      "Epoch 9/15\n",
      "42000/42000 [==============================] - 4s - loss: 0.2830 - acc: 0.9201     \n",
      "Epoch 10/15\n",
      "42000/42000 [==============================] - 5s - loss: 0.2660 - acc: 0.9247     \n",
      "Epoch 11/15\n",
      "42000/42000 [==============================] - 4s - loss: 0.2515 - acc: 0.9293     \n",
      "Epoch 12/15\n",
      "42000/42000 [==============================] - 4s - loss: 0.2390 - acc: 0.9322     \n",
      "Epoch 13/15\n",
      "42000/42000 [==============================] - 4s - loss: 0.2278 - acc: 0.9346     \n",
      "Epoch 14/15\n",
      "42000/42000 [==============================] - 4s - loss: 0.2181 - acc: 0.9385     \n",
      "Epoch 15/15\n",
      "42000/42000 [==============================] - 5s - loss: 0.2088 - acc: 0.9412     \n"
     ]
    },
    {
     "data": {
      "text/plain": [
       "<keras.callbacks.History at 0x118ece898>"
      ]
     },
     "execution_count": 28,
     "metadata": {},
     "output_type": "execute_result"
    }
   ],
   "source": [
    "model.fit(Xr,binary_labels(Yr,10),nb_epoch=15,verbose=1,batch_size=8)"
   ]
  },
  {
   "cell_type": "code",
   "execution_count": null,
   "metadata": {
    "collapsed": false
   },
   "outputs": [],
   "source": [
    "model.evaluate(Xr,binary_labels(Yr,10),verbose=1)"
   ]
  },
  {
   "cell_type": "code",
   "execution_count": null,
   "metadata": {
    "collapsed": false
   },
   "outputs": [],
   "source": [
    "preds = model.predict_classes(Xr)\n",
    "probs=model.predict_proba(Xr)"
   ]
  },
  {
   "cell_type": "code",
   "execution_count": null,
   "metadata": {
    "collapsed": false
   },
   "outputs": [],
   "source": [
    "def top5(prob):\n",
    "    result=sorted(prob,reverse=True)[0:5]\n",
    "    for i in range(5):\n",
    "        result[i]=list(prob).index(result[i])\n",
    "    return result\n"
   ]
  },
  {
   "cell_type": "code",
   "execution_count": null,
   "metadata": {
    "collapsed": true
   },
   "outputs": [],
   "source": [
    "c=5\n",
    "for x,y_hat,y,p in zip(Xr,preds,Yr,probs):\n",
    "    if(y_hat!=y):\n",
    "        display_digit(x,top5(p))\n",
    "        c+=1\n",
    "    if(c>15):\n",
    "        break\n",
    "    "
   ]
  },
  {
   "cell_type": "code",
   "execution_count": 23,
   "metadata": {
    "collapsed": false
   },
   "outputs": [
    {
     "name": "stdout",
     "output_type": "stream",
     "text": [
      "27904/28000 [============================>.] - ETA: 0s"
     ]
    }
   ],
   "source": [
    "sub_pred=model.predict_classes(Xe)\n",
    "utils.create_sub(sub_pred,\"subs/nn96_\")"
   ]
  },
  {
   "cell_type": "code",
   "execution_count": 12,
   "metadata": {
    "collapsed": false
   },
   "outputs": [
    {
     "data": {
      "text/plain": [
       "array([[ 0.,  0.,  0., ...,  0.,  0.,  0.],\n",
       "       [ 0.,  0.,  0., ...,  0.,  0.,  0.],\n",
       "       [ 0.,  0.,  0., ...,  0.,  0.,  0.],\n",
       "       ..., \n",
       "       [ 0.,  0.,  0., ...,  0.,  0.,  0.],\n",
       "       [ 0.,  0.,  0., ...,  0.,  0.,  0.],\n",
       "       [ 0.,  0.,  0., ...,  0.,  0.,  0.]])"
      ]
     },
     "execution_count": 12,
     "metadata": {},
     "output_type": "execute_result"
    }
   ],
   "source": []
  },
  {
   "cell_type": "code",
   "execution_count": null,
   "metadata": {
    "collapsed": true
   },
   "outputs": [],
   "source": []
  }
 ],
 "metadata": {
  "kernelspec": {
   "display_name": "Python ML",
   "language": "python",
   "name": "tensorflow"
  },
  "language_info": {
   "codemirror_mode": {
    "name": "ipython",
    "version": 3
   },
   "file_extension": ".py",
   "mimetype": "text/x-python",
   "name": "python",
   "nbconvert_exporter": "python",
   "pygments_lexer": "ipython3",
   "version": "3.5.2"
  }
 },
 "nbformat": 4,
 "nbformat_minor": 0
}
