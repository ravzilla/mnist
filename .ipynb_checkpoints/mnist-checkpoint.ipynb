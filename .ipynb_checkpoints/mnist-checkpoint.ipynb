{
 "cells": [
  {
   "cell_type": "code",
   "execution_count": 1,
   "metadata": {
    "collapsed": false
   },
   "outputs": [
    {
     "name": "stderr",
     "output_type": "stream",
     "text": [
      "Using Theano backend.\n"
     ]
    }
   ],
   "source": [
    "%matplotlib inline\n",
    "import numpy as np\n",
    "import matplotlib.pyplot as plt\n",
    "import matplotlib.cm as cm\n",
    "import pandas as pd\n",
    "import keras\n",
    "import scipy.misc\n",
    "import utils"
   ]
  },
  {
   "cell_type": "code",
   "execution_count": 2,
   "metadata": {
    "collapsed": false
   },
   "outputs": [],
   "source": [
    "cols=[\"pixel\"+str(i) for i in range(784)]\n",
    "Xr = pd.read_csv('train.csv')\n",
    "Yr = Xr[\"label\"]\n",
    "Xr = Xr.as_matrix(cols)\n",
    "\n",
    "Xe = pd.read_csv('test.csv')\n",
    "Xe = Xe.as_matrix(cols)\n",
    "\n",
    "\n",
    "\n"
   ]
  },
  {
   "cell_type": "code",
   "execution_count": 3,
   "metadata": {
    "collapsed": true
   },
   "outputs": [],
   "source": [
    "Xr=Xr/255\n",
    "Xe=Xe/255"
   ]
  },
  {
   "cell_type": "code",
   "execution_count": 4,
   "metadata": {
    "collapsed": false
   },
   "outputs": [],
   "source": [
    "def display_digit(Xs,title=None):\n",
    "    fig = plt.figure(figsize=(3,3))\n",
    "    sq=Xs.reshape(28,28)\n",
    "    plt.imshow(sq,cmap = cm.Greys_r)\n",
    "    if title!=None:\n",
    "        fig.suptitle(str(title))\n",
    "        \n",
    "def binary_labels(Y,n):\n",
    "    result = []\n",
    "    for i in Y:\n",
    "        temp_zeros=[0 for i in range(n)]\n",
    "        temp_zeros[i]=1\n",
    "        result.append(np.array(temp_zeros))\n",
    "    return np.array(result)\n",
    "\n"
   ]
  },
  {
   "cell_type": "code",
   "execution_count": 33,
   "metadata": {
    "collapsed": false
   },
   "outputs": [
    {
     "name": "stdout",
     "output_type": "stream",
     "text": [
      "____________________________________________________________________________________________________\n",
      "Layer (type)                     Output Shape          Param #     Connected to                     \n",
      "====================================================================================================\n",
      "dense_40 (Dense)                 (None, 64)            50240       dense_input_14[0][0]             \n",
      "____________________________________________________________________________________________________\n",
      "activation_40 (Activation)       (None, 64)            0           dense_40[0][0]                   \n",
      "____________________________________________________________________________________________________\n",
      "dense_41 (Dense)                 (None, 64)            4160        activation_40[0][0]              \n",
      "____________________________________________________________________________________________________\n",
      "dropout_9 (Dropout)              (None, 64)            0           dense_41[0][0]                   \n",
      "____________________________________________________________________________________________________\n",
      "activation_41 (Activation)       (None, 64)            0           dropout_9[0][0]                  \n",
      "____________________________________________________________________________________________________\n",
      "dense_42 (Dense)                 (None, 64)            4160        activation_41[0][0]              \n",
      "____________________________________________________________________________________________________\n",
      "dropout_10 (Dropout)             (None, 64)            0           dense_42[0][0]                   \n",
      "____________________________________________________________________________________________________\n",
      "activation_42 (Activation)       (None, 64)            0           dropout_10[0][0]                 \n",
      "____________________________________________________________________________________________________\n",
      "dense_43 (Dense)                 (None, 64)            4160        activation_42[0][0]              \n",
      "____________________________________________________________________________________________________\n",
      "activation_43 (Activation)       (None, 64)            0           dense_43[0][0]                   \n",
      "____________________________________________________________________________________________________\n",
      "dense_44 (Dense)                 (None, 10)            650         activation_43[0][0]              \n",
      "____________________________________________________________________________________________________\n",
      "activation_44 (Activation)       (None, 10)            0           dense_44[0][0]                   \n",
      "====================================================================================================\n",
      "Total params: 63370\n",
      "____________________________________________________________________________________________________\n"
     ]
    }
   ],
   "source": [
    "from keras.models import Sequential\n",
    "from keras.layers import Dense, Activation, Dropout\n",
    "model = Sequential()\n",
    "model.add(Dense(output_dim=64, input_dim=784))\n",
    "model.add(Activation(\"tanh\"))\n",
    "model.add(Dense(output_dim=64))\n",
    "model.add(Dropout(0.5))\n",
    "model.add(Activation(\"tanh\"))\n",
    "model.add(Dense(output_dim=64))\n",
    "model.add(Dropout(0.5))\n",
    "model.add(Activation(\"tanh\"))\n",
    "model.add(Dense(output_dim=64))\n",
    "model.add(Activation(\"tanh\"))\n",
    "model.add(Dense(output_dim=10))\n",
    "model.add(Activation(\"softmax\"))\n",
    "model.compile(loss='categorical_crossentropy', optimizer='sgd', metrics=['accuracy'])\n",
    "model.summary()"
   ]
  },
  {
   "cell_type": "code",
   "execution_count": 37,
   "metadata": {
    "collapsed": false
   },
   "outputs": [
    {
     "name": "stdout",
     "output_type": "stream",
     "text": [
      "Epoch 1/10\n",
      "42000/42000 [==============================] - 6s - loss: 0.1205 - acc: 0.9656     \n",
      "Epoch 2/10\n",
      "42000/42000 [==============================] - 6s - loss: 0.1162 - acc: 0.9670     \n",
      "Epoch 3/10\n",
      "42000/42000 [==============================] - 5s - loss: 0.1090 - acc: 0.9686     \n",
      "Epoch 4/10\n",
      "42000/42000 [==============================] - 4s - loss: 0.1021 - acc: 0.9715     \n",
      "Epoch 5/10\n",
      "42000/42000 [==============================] - 4s - loss: 0.0998 - acc: 0.9714     \n",
      "Epoch 6/10\n",
      "42000/42000 [==============================] - 4s - loss: 0.0967 - acc: 0.9724     \n",
      "Epoch 7/10\n",
      "42000/42000 [==============================] - 5s - loss: 0.0909 - acc: 0.9732     \n",
      "Epoch 8/10\n",
      "42000/42000 [==============================] - 8s - loss: 0.0910 - acc: 0.9732     \n",
      "Epoch 9/10\n",
      "42000/42000 [==============================] - 8s - loss: 0.0901 - acc: 0.9733     \n",
      "Epoch 10/10\n",
      "42000/42000 [==============================] - 8s - loss: 0.0820 - acc: 0.9766     \n"
     ]
    },
    {
     "data": {
      "text/plain": [
       "<keras.callbacks.History at 0x121ff4278>"
      ]
     },
     "execution_count": 37,
     "metadata": {},
     "output_type": "execute_result"
    }
   ],
   "source": [
    "model.fit(Xr,binary_labels(Yr,10),nb_epoch=10,verbose=1,batch_size=16)"
   ]
  },
  {
   "cell_type": "code",
   "execution_count": null,
   "metadata": {
    "collapsed": false
   },
   "outputs": [],
   "source": [
    "model.evaluate(Xr,binary_labels(Yr,10),verbose=1)"
   ]
  },
  {
   "cell_type": "code",
   "execution_count": null,
   "metadata": {
    "collapsed": false
   },
   "outputs": [],
   "source": [
    "preds = model.predict_classes(Xr)\n",
    "probs=model.predict_proba(Xr)"
   ]
  },
  {
   "cell_type": "code",
   "execution_count": null,
   "metadata": {
    "collapsed": false
   },
   "outputs": [],
   "source": [
    "def top5(prob):\n",
    "    result=sorted(prob,reverse=True)[0:5]\n",
    "    for i in range(5):\n",
    "        result[i]=list(prob).index(result[i])\n",
    "    return result\n"
   ]
  },
  {
   "cell_type": "code",
   "execution_count": null,
   "metadata": {
    "collapsed": true
   },
   "outputs": [],
   "source": [
    "c=5\n",
    "for x,y_hat,y,p in zip(Xr,preds,Yr,probs):\n",
    "    if(y_hat!=y):\n",
    "        display_digit(x,top5(p))\n",
    "        c+=1\n",
    "    if(c>15):\n",
    "        break\n",
    "    "
   ]
  },
  {
   "cell_type": "code",
   "execution_count": 38,
   "metadata": {
    "collapsed": false
   },
   "outputs": [
    {
     "name": "stdout",
     "output_type": "stream",
     "text": [
      "27904/28000 [============================>.] - ETA: 0s"
     ]
    }
   ],
   "source": [
    "sub_pred=model.predict_classes(Xe)\n",
    "utils.create_sub(sub_pred,\"subs/nn96_\")"
   ]
  },
  {
   "cell_type": "code",
   "execution_count": 12,
   "metadata": {
    "collapsed": false
   },
   "outputs": [
    {
     "data": {
      "text/plain": [
       "array([[ 0.,  0.,  0., ...,  0.,  0.,  0.],\n",
       "       [ 0.,  0.,  0., ...,  0.,  0.,  0.],\n",
       "       [ 0.,  0.,  0., ...,  0.,  0.,  0.],\n",
       "       ..., \n",
       "       [ 0.,  0.,  0., ...,  0.,  0.,  0.],\n",
       "       [ 0.,  0.,  0., ...,  0.,  0.,  0.],\n",
       "       [ 0.,  0.,  0., ...,  0.,  0.,  0.]])"
      ]
     },
     "execution_count": 12,
     "metadata": {},
     "output_type": "execute_result"
    }
   ],
   "source": []
  },
  {
   "cell_type": "code",
   "execution_count": null,
   "metadata": {
    "collapsed": true
   },
   "outputs": [],
   "source": []
  }
 ],
 "metadata": {
  "kernelspec": {
   "display_name": "Python ML",
   "language": "python",
   "name": "tensorflow"
  },
  "language_info": {
   "codemirror_mode": {
    "name": "ipython",
    "version": 3
   },
   "file_extension": ".py",
   "mimetype": "text/x-python",
   "name": "python",
   "nbconvert_exporter": "python",
   "pygments_lexer": "ipython3",
   "version": "3.5.2"
  }
 },
 "nbformat": 4,
 "nbformat_minor": 0
}
