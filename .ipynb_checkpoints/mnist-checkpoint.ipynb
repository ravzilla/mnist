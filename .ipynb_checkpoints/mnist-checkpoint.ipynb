{
 "cells": [
  {
   "cell_type": "code",
   "execution_count": 5,
   "metadata": {
    "collapsed": false
   },
   "outputs": [],
   "source": [
    "%matplotlib inline\n",
    "import numpy as np\n",
    "import matplotlib.pyplot as plt\n",
    "import matplotlib.cm as cm\n",
    "import pandas as pd\n",
    "import keras\n",
    "import scipy.misc"
   ]
  },
  {
   "cell_type": "code",
   "execution_count": 3,
   "metadata": {
    "collapsed": false
   },
   "outputs": [],
   "source": [
    "cols=[\"pixel\"+str(i) for i in range(784)]\n",
    "Xr = pd.read_csv('train.csv')\n",
    "Yr = Xr[\"label\"]\n",
    "Xr = Xr.as_matrix(cols)\n",
    "\n",
    "\n",
    "Xe = pd.read_csv('test.csv')\n",
    "Xe = Xe.as_matrix(cols)\n",
    "\n",
    "\n",
    "\n"
   ]
  },
  {
   "cell_type": "code",
   "execution_count": 10,
   "metadata": {
    "collapsed": false
   },
   "outputs": [
    {
     "data": {
      "image/png": "[encoded data removed]",
      "text/plain": [
       "<matplotlib.figure.Figure at 0x12b87b630>"
      ]
     },
     "metadata": {},
     "output_type": "display_data"
    }
   ],
   "source": [
    "def display_digit(Xs,y=None):\n",
    "    fig = plt.figure(figsize=(3,3))\n",
    "    sq=Xs.reshape(28,28)\n",
    "    plt.imshow(sq,cmap = cm.Greys_r)\n",
    "    if y!=None:\n",
    "        fig.suptitle(str(y))\n",
    "        \n",
    "def binary_labels(Y,n):\n",
    "    result = []\n",
    "    for i in Y:\n",
    "        temp_zeros=[0 for i in range(n)]\n",
    "        temp_zeros[i]=1\n",
    "        result.append(np.array(temp_zeros))\n",
    "    return np.array(result)\n",
    "\n"
   ]
  },
  {
   "cell_type": "code",
   "execution_count": 31,
   "metadata": {
    "collapsed": false
   },
   "outputs": [
    {
     "name": "stdout",
     "output_type": "stream",
     "text": [
      "____________________________________________________________________________________________________\n",
      "Layer (type)                     Output Shape          Param #     Connected to                     \n",
      "====================================================================================================\n",
      "dense_26 (Dense)                 (None, 64)            50240       dense_input_10[0][0]             \n",
      "____________________________________________________________________________________________________\n",
      "activation_26 (Activation)       (None, 64)            0           dense_26[0][0]                   \n",
      "____________________________________________________________________________________________________\n",
      "dense_27 (Dense)                 (None, 10)            650         activation_26[0][0]              \n",
      "____________________________________________________________________________________________________\n",
      "activation_27 (Activation)       (None, 10)            0           dense_27[0][0]                   \n",
      "====================================================================================================\n",
      "Total params: 50890\n",
      "____________________________________________________________________________________________________\n"
     ]
    }
   ],
   "source": [
    "from keras.models import Sequential\n",
    "from keras.layers import Dense, Activation\n",
    "model = Sequential()\n",
    "model.add(Dense(output_dim=64, input_dim=784))\n",
    "model.add(Activation(\"sigmoid\"))\n",
    "model.add(Dense(output_dim=10))\n",
    "model.add(Activation(\"softmax\"))\n",
    "model.compile(loss='categorical_crossentropy', optimizer='sgd', metrics=['accuracy'])\n",
    "model.summary()"
   ]
  },
  {
   "cell_type": "code",
   "execution_count": 32,
   "metadata": {
    "collapsed": false
   },
   "outputs": [
    {
     "name": "stdout",
     "output_type": "stream",
     "text": [
      "Epoch 1/10\n",
      "42000/42000 [==============================] - 3s - loss: 0.8992 - acc: 0.7770     \n",
      "Epoch 2/10\n",
      "42000/42000 [==============================] - 3s - loss: 0.4803 - acc: 0.8790     \n",
      "Epoch 3/10\n",
      "42000/42000 [==============================] - 3s - loss: 0.4054 - acc: 0.8952     \n",
      "Epoch 4/10\n",
      "42000/42000 [==============================] - 3s - loss: 0.3713 - acc: 0.9011     \n",
      "Epoch 5/10\n",
      "42000/42000 [==============================] - 3s - loss: 0.3476 - acc: 0.9043     \n",
      "Epoch 6/10\n",
      "42000/42000 [==============================] - 3s - loss: 0.3338 - acc: 0.9075     \n",
      "Epoch 7/10\n",
      "42000/42000 [==============================] - 4s - loss: 0.3155 - acc: 0.9107     \n",
      "Epoch 8/10\n",
      "42000/42000 [==============================] - 3s - loss: 0.3050 - acc: 0.9127     \n",
      "Epoch 9/10\n",
      "42000/42000 [==============================] - 3s - loss: 0.2944 - acc: 0.9144     \n",
      "Epoch 10/10\n",
      "42000/42000 [==============================] - 5s - loss: 0.2906 - acc: 0.9170     \n"
     ]
    },
    {
     "data": {
      "text/plain": [
       "<keras.callbacks.History at 0x11b59bc50>"
      ]
     },
     "execution_count": 32,
     "metadata": {},
     "output_type": "execute_result"
    }
   ],
   "source": [
    "model.fit(Xr,binary_labels(Yr,10),verbose=1,batch_size=32)"
   ]
  },
  {
   "cell_type": "code",
   "execution_count": 33,
   "metadata": {
    "collapsed": false
   },
   "outputs": [
    {
     "name": "stdout",
     "output_type": "stream",
     "text": [
      "41760/42000 [============================>.] - ETA: 0s"
     ]
    },
    {
     "data": {
      "text/plain": [
       "[0.27966546719414848, 0.92028571428571426]"
      ]
     },
     "execution_count": 33,
     "metadata": {},
     "output_type": "execute_result"
    }
   ],
   "source": [
    "model.evaluate(Xr,binary_labels(Yr,10),verbose=1)"
   ]
  },
  {
   "cell_type": "code",
   "execution_count": 17,
   "metadata": {
    "collapsed": false
   },
   "outputs": [
    {
     "name": "stdout",
     "output_type": "stream",
     "text": [
      "\r",
      " 32/100 [========>.....................] - ETA: 0s"
     ]
    },
    {
     "data": {
      "text/plain": [
       "array([2, 0, 9, 7, 3, 7, 0, 3, 0, 3, 5, 7, 4, 0, 4, 5, 3, 1, 9, 0, 9, 1, 1,\n",
       "       5, 7, 4, 2, 7, 7, 7, 7, 5, 4, 2, 6, 2, 0, 5, 1, 6, 7, 7, 4, 9, 8, 7,\n",
       "       8, 2, 6, 7, 6, 8, 8, 3, 8, 2, 1, 2, 2, 5, 9, 1, 7, 0, 0, 0, 1, 9, 0,\n",
       "       1, 6, 5, 8, 8, 2, 8, 8, 9, 2, 2, 5, 9, 1, 0, 9, 2, 4, 3, 6, 7, 2, 0,\n",
       "       6, 6, 8, 4, 3, 9, 7, 4])"
      ]
     },
     "execution_count": 17,
     "metadata": {},
     "output_type": "execute_result"
    }
   ],
   "source": [
    "model.predict_classes(Xe[0:100])"
   ]
  },
  {
   "cell_type": "code",
   "execution_count": null,
   "metadata": {
    "collapsed": true
   },
   "outputs": [],
   "source": []
  }
 ],
 "metadata": {
  "kernelspec": {
   "display_name": "Python ML",
   "language": "python",
   "name": "tensorflow"
  },
  "language_info": {
   "codemirror_mode": {
    "name": "ipython",
    "version": 3
   },
   "file_extension": ".py",
   "mimetype": "text/x-python",
   "name": "python",
   "nbconvert_exporter": "python",
   "pygments_lexer": "ipython3",
   "version": "3.5.2"
  }
 },
 "nbformat": 4,
 "nbformat_minor": 0
}
