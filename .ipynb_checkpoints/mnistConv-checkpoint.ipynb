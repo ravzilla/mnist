{
 "cells": [
  {
   "cell_type": "code",
   "execution_count": 1,
   "metadata": {
    "collapsed": false
   },
   "outputs": [
    {
     "name": "stderr",
     "output_type": "stream",
     "text": [
      "Using Theano backend.\n"
     ]
    }
   ],
   "source": [
    "%matplotlib inline\n",
    "import numpy as np\n",
    "import matplotlib.pyplot as plt\n",
    "import matplotlib.cm as cm\n",
    "import pandas as pd\n",
    "import keras\n",
    "import scipy.misc\n",
    "import utils"
   ]
  },
  {
   "cell_type": "code",
   "execution_count": 2,
   "metadata": {
    "collapsed": false
   },
   "outputs": [],
   "source": [
    "cols=[\"pixel\"+str(i) for i in range(784)]\n",
    "Xr = pd.read_csv('train.csv')\n",
    "Yr = Xr[\"label\"]\n",
    "Xr = Xr.as_matrix(cols)\n",
    "\n",
    "Xe = pd.read_csv('test.csv')\n",
    "Xe = Xe.as_matrix(cols)\n",
    "\n",
    "\n",
    "\n"
   ]
  },
  {
   "cell_type": "code",
   "execution_count": 3,
   "metadata": {
    "collapsed": true
   },
   "outputs": [],
   "source": [
    "Xr=Xr/255\n",
    "Xe=Xe/255"
   ]
  },
  {
   "cell_type": "code",
   "execution_count": 4,
   "metadata": {
    "collapsed": false
   },
   "outputs": [],
   "source": [
    "def display_digit(Xs,title=None):\n",
    "    fig = plt.figure(figsize=(3,3))\n",
    "    sq=Xs.reshape(28,28)\n",
    "    plt.imshow(sq,cmap = cm.Greys_r)\n",
    "    if title!=None:\n",
    "        fig.suptitle(str(title))\n",
    "        \n",
    "def binary_labels(Y,n):\n",
    "    result = []\n",
    "    for i in Y:\n",
    "        temp_zeros=[0 for i in range(n)]\n",
    "        temp_zeros[i]=1\n",
    "        result.append(np.array(temp_zeros))\n",
    "    return np.array(result)\n",
    "\n"
   ]
  },
  {
   "cell_type": "code",
   "execution_count": 40,
   "metadata": {
    "collapsed": false
   },
   "outputs": [
    {
     "name": "stdout",
     "output_type": "stream",
     "text": [
      "____________________________________________________________________________________________________\n",
      "Layer (type)                     Output Shape          Param #     Connected to                     \n",
      "====================================================================================================\n",
      "dense_50 (Dense)                 (None, 64)            50240       dense_input_16[0][0]             \n",
      "____________________________________________________________________________________________________\n",
      "activation_50 (Activation)       (None, 64)            0           dense_50[0][0]                   \n",
      "____________________________________________________________________________________________________\n",
      "dense_51 (Dense)                 (None, 64)            4160        activation_50[0][0]              \n",
      "____________________________________________________________________________________________________\n",
      "dropout_14 (Dropout)             (None, 64)            0           dense_51[0][0]                   \n",
      "____________________________________________________________________________________________________\n",
      "activation_51 (Activation)       (None, 64)            0           dropout_14[0][0]                 \n",
      "____________________________________________________________________________________________________\n",
      "dense_52 (Dense)                 (None, 64)            4160        activation_51[0][0]              \n",
      "____________________________________________________________________________________________________\n",
      "dropout_15 (Dropout)             (None, 64)            0           dense_52[0][0]                   \n",
      "____________________________________________________________________________________________________\n",
      "activation_52 (Activation)       (None, 64)            0           dropout_15[0][0]                 \n",
      "____________________________________________________________________________________________________\n",
      "dense_53 (Dense)                 (None, 64)            4160        activation_52[0][0]              \n",
      "____________________________________________________________________________________________________\n",
      "dropout_16 (Dropout)             (None, 64)            0           dense_53[0][0]                   \n",
      "____________________________________________________________________________________________________\n",
      "activation_53 (Activation)       (None, 64)            0           dropout_16[0][0]                 \n",
      "____________________________________________________________________________________________________\n",
      "dense_54 (Dense)                 (None, 64)            4160        activation_53[0][0]              \n",
      "____________________________________________________________________________________________________\n",
      "dropout_17 (Dropout)             (None, 64)            0           dense_54[0][0]                   \n",
      "____________________________________________________________________________________________________\n",
      "activation_54 (Activation)       (None, 64)            0           dropout_17[0][0]                 \n",
      "____________________________________________________________________________________________________\n",
      "dense_55 (Dense)                 (None, 10)            650         activation_54[0][0]              \n",
      "____________________________________________________________________________________________________\n",
      "activation_55 (Activation)       (None, 10)            0           dense_55[0][0]                   \n",
      "====================================================================================================\n",
      "Total params: 67530\n",
      "____________________________________________________________________________________________________\n"
     ]
    }
   ],
   "source": [
    "from keras.models import Sequential\n",
    "from keras.layers import Dense, Activation, Dropout\n",
    "model = Sequential()\n",
    "model.add(Dense(output_dim=64, input_dim=784))\n",
    "model.add(Activation(\"tanh\"))\n",
    "model.add(Dense(output_dim=64))\n",
    "model.add(Dropout(0.5))\n",
    "model.add(Activation(\"tanh\"))\n",
    "model.add(Dense(output_dim=64))\n",
    "model.add(Dropout(0.5))\n",
    "model.add(Activation(\"tanh\"))\n",
    "model.add(Dense(output_dim=64))\n",
    "model.add(Dropout(0.5))\n",
    "model.add(Activation(\"tanh\"))\n",
    "model.add(Dense(output_dim=64))\n",
    "model.add(Dropout(0.5))\n",
    "model.add(Activation(\"tanh\"))\n",
    "model.add(Dense(output_dim=10))\n",
    "model.add(Activation(\"softmax\"))\n",
    "model.compile(loss='categorical_crossentropy', optimizer='sgd', metrics=['accuracy'])\n",
    "model.summary()"
   ]
  },
  {
   "cell_type": "code",
   "execution_count": 42,
   "metadata": {
    "collapsed": false
   },
   "outputs": [
    {
     "name": "stdout",
     "output_type": "stream",
     "text": [
      "Epoch 1/20\n",
      "42000/42000 [==============================] - 7s - loss: 0.2045 - acc: 0.9512     \n",
      "Epoch 2/20\n",
      "42000/42000 [==============================] - 6s - loss: 0.1951 - acc: 0.9533     \n",
      "Epoch 3/20\n",
      "42000/42000 [==============================] - 6s - loss: 0.1868 - acc: 0.9577     \n",
      "Epoch 4/20\n",
      "42000/42000 [==============================] - 6s - loss: 0.1753 - acc: 0.9595     \n",
      "Epoch 5/20\n",
      "42000/42000 [==============================] - 6s - loss: 0.1755 - acc: 0.9588     \n",
      "Epoch 6/20\n",
      "42000/42000 [==============================] - 6s - loss: 0.1612 - acc: 0.9633     \n",
      "Epoch 7/20\n",
      "42000/42000 [==============================] - 6s - loss: 0.1556 - acc: 0.9646     \n",
      "Epoch 8/20\n",
      "42000/42000 [==============================] - 6s - loss: 0.1533 - acc: 0.9641     \n",
      "Epoch 9/20\n",
      "42000/42000 [==============================] - 6s - loss: 0.1471 - acc: 0.9670     \n",
      "Epoch 10/20\n",
      "42000/42000 [==============================] - 6s - loss: 0.1434 - acc: 0.9677     \n",
      "Epoch 11/20\n",
      "42000/42000 [==============================] - 6s - loss: 0.1390 - acc: 0.9687     \n",
      "Epoch 12/20\n",
      "42000/42000 [==============================] - 6s - loss: 0.1331 - acc: 0.9685     \n",
      "Epoch 13/20\n",
      "42000/42000 [==============================] - 6s - loss: 0.1314 - acc: 0.9706     \n",
      "Epoch 14/20\n",
      "42000/42000 [==============================] - 6s - loss: 0.1253 - acc: 0.9714     \n",
      "Epoch 15/20\n",
      "42000/42000 [==============================] - 6s - loss: 0.1261 - acc: 0.9722     \n",
      "Epoch 16/20\n",
      "42000/42000 [==============================] - 6s - loss: 0.1184 - acc: 0.9734     \n",
      "Epoch 17/20\n",
      "42000/42000 [==============================] - 6s - loss: 0.1166 - acc: 0.9741     \n",
      "Epoch 18/20\n",
      "42000/42000 [==============================] - 6s - loss: 0.1177 - acc: 0.9733     \n",
      "Epoch 19/20\n",
      "42000/42000 [==============================] - 6s - loss: 0.1123 - acc: 0.9745     \n",
      "Epoch 20/20\n",
      "42000/42000 [==============================] - 6s - loss: 0.1107 - acc: 0.9748     \n"
     ]
    },
    {
     "data": {
      "text/plain": [
       "<keras.callbacks.History at 0x12429be48>"
      ]
     },
     "execution_count": 42,
     "metadata": {},
     "output_type": "execute_result"
    }
   ],
   "source": [
    "model.fit(Xr,binary_labels(Yr,10),nb_epoch=20,verbose=1,batch_size=8)"
   ]
  },
  {
   "cell_type": "code",
   "execution_count": null,
   "metadata": {
    "collapsed": false
   },
   "outputs": [],
   "source": [
    "model.evaluate(Xr,binary_labels(Yr,10),verbose=1)"
   ]
  },
  {
   "cell_type": "code",
   "execution_count": null,
   "metadata": {
    "collapsed": false
   },
   "outputs": [],
   "source": [
    "preds = model.predict_classes(Xr)\n",
    "probs=model.predict_proba(Xr)"
   ]
  },
  {
   "cell_type": "code",
   "execution_count": null,
   "metadata": {
    "collapsed": false
   },
   "outputs": [],
   "source": [
    "def top5(prob):\n",
    "    result=sorted(prob,reverse=True)[0:5]\n",
    "    for i in range(5):\n",
    "        result[i]=list(prob).index(result[i])\n",
    "    return result\n"
   ]
  },
  {
   "cell_type": "code",
   "execution_count": null,
   "metadata": {
    "collapsed": true
   },
   "outputs": [],
   "source": [
    "c=5\n",
    "for x,y_hat,y,p in zip(Xr,preds,Yr,probs):\n",
    "    if(y_hat!=y):\n",
    "        display_digit(x,top5(p))\n",
    "        c+=1\n",
    "    if(c>15):\n",
    "        break\n",
    "    "
   ]
  },
  {
   "cell_type": "code",
   "execution_count": 38,
   "metadata": {
    "collapsed": false
   },
   "outputs": [
    {
     "name": "stdout",
     "output_type": "stream",
     "text": [
      "27904/28000 [============================>.] - ETA: 0s"
     ]
    }
   ],
   "source": [
    "sub_pred=model.predict_classes(Xe)\n",
    "utils.create_sub(sub_pred,\"subs/nn96_\")"
   ]
  },
  {
   "cell_type": "code",
   "execution_count": 12,
   "metadata": {
    "collapsed": false
   },
   "outputs": [
    {
     "data": {
      "text/plain": [
       "array([[ 0.,  0.,  0., ...,  0.,  0.,  0.],\n",
       "       [ 0.,  0.,  0., ...,  0.,  0.,  0.],\n",
       "       [ 0.,  0.,  0., ...,  0.,  0.,  0.],\n",
       "       ..., \n",
       "       [ 0.,  0.,  0., ...,  0.,  0.,  0.],\n",
       "       [ 0.,  0.,  0., ...,  0.,  0.,  0.],\n",
       "       [ 0.,  0.,  0., ...,  0.,  0.,  0.]])"
      ]
     },
     "execution_count": 12,
     "metadata": {},
     "output_type": "execute_result"
    }
   ],
   "source": []
  },
  {
   "cell_type": "code",
   "execution_count": null,
   "metadata": {
    "collapsed": true
   },
   "outputs": [],
   "source": []
  }
 ],
 "metadata": {
  "kernelspec": {
   "display_name": "Python ML",
   "language": "python",
   "name": "tensorflow"
  },
  "language_info": {
   "codemirror_mode": {
    "name": "ipython",
    "version": 3
   },
   "file_extension": ".py",
   "mimetype": "text/x-python",
   "name": "python",
   "nbconvert_exporter": "python",
   "pygments_lexer": "ipython3",
   "version": "3.5.2"
  }
 },
 "nbformat": 4,
 "nbformat_minor": 0
}
